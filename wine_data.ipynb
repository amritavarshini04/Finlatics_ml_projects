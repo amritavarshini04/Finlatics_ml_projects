{
  "nbformat": 4,
  "nbformat_minor": 0,
  "metadata": {
    "colab": {
      "provenance": [],
      "authorship_tag": "ABX9TyNa8bXyTvCe4dNkn//1hxTu",
      "include_colab_link": true
    },
    "kernelspec": {
      "name": "python3",
      "display_name": "Python 3"
    },
    "language_info": {
      "name": "python"
    }
  },
  "cells": [
    {
      "cell_type": "markdown",
      "metadata": {
        "id": "view-in-github",
        "colab_type": "text"
      },
      "source": [
        "<a href=\"https://colab.research.google.com/github/amritavarshini04/Finlatics_ml_projects/blob/main/wine_data.ipynb\" target=\"_parent\"><img src=\"https://colab.research.google.com/assets/colab-badge.svg\" alt=\"Open In Colab\"/></a>"
      ]
    },
    {
      "cell_type": "markdown",
      "source": [
        "importing libraries"
      ],
      "metadata": {
        "id": "F6vKrVM1ZKwM"
      }
    },
    {
      "cell_type": "code",
      "execution_count": 1,
      "metadata": {
        "id": "0PlpoHScZHED"
      },
      "outputs": [],
      "source": [
        "import numpy as np\n",
        "import pandas as pd\n",
        "import matplotlib.pyplot as plt\n",
        "import seaborn as sns"
      ]
    },
    {
      "cell_type": "markdown",
      "source": [
        "importing dataset"
      ],
      "metadata": {
        "id": "zqAEPJUIZtST"
      }
    },
    {
      "cell_type": "code",
      "source": [
        "df = pd.read_csv(\"wine_data.csv\")"
      ],
      "metadata": {
        "id": "SFdOtYApZvN9"
      },
      "execution_count": 3,
      "outputs": []
    },
    {
      "cell_type": "code",
      "source": [
        "print(df.head())"
      ],
      "metadata": {
        "colab": {
          "base_uri": "https://localhost:8080/"
        },
        "id": "8heIAE3pabiH",
        "outputId": "5b24003c-4a6f-45fd-c364-d529dfee4a5d"
      },
      "execution_count": 4,
      "outputs": [
        {
          "output_type": "stream",
          "name": "stdout",
          "text": [
            "   fixed acidity  volatile acidity  citric acid  residual sugar  chlorides  \\\n",
            "0            7.4              0.70         0.00             1.9      0.076   \n",
            "1            7.8              0.88         0.00             2.6      0.098   \n",
            "2            7.8              0.76         0.04             2.3      0.092   \n",
            "3           11.2              0.28         0.56             1.9      0.075   \n",
            "4            7.4              0.70         0.00             1.9      0.076   \n",
            "\n",
            "   free sulfur dioxide  total sulfur dioxide  density    pH  sulphates  \\\n",
            "0                 11.0                  34.0   0.9978  3.51       0.56   \n",
            "1                 25.0                  67.0   0.9968  3.20       0.68   \n",
            "2                 15.0                  54.0   0.9970  3.26       0.65   \n",
            "3                 17.0                  60.0   0.9980  3.16       0.58   \n",
            "4                 11.0                  34.0   0.9978  3.51       0.56   \n",
            "\n",
            "   alcohol  quality  \n",
            "0      9.4        5  \n",
            "1      9.8        5  \n",
            "2      9.8        5  \n",
            "3      9.8        6  \n",
            "4      9.4        5  \n"
          ]
        }
      ]
    },
    {
      "cell_type": "markdown",
      "source": [
        "Check for Missing Values"
      ],
      "metadata": {
        "id": "FXnrhJKAajfv"
      }
    },
    {
      "cell_type": "code",
      "source": [
        "print(\"\\nMissing values in each column:\\n\", df.isnull().sum())"
      ],
      "metadata": {
        "colab": {
          "base_uri": "https://localhost:8080/"
        },
        "id": "g6RjjEYPap0c",
        "outputId": "e09827e3-60bb-4024-b497-e3c696d34e53"
      },
      "execution_count": 5,
      "outputs": [
        {
          "output_type": "stream",
          "name": "stdout",
          "text": [
            "\n",
            "Missing values in each column:\n",
            " fixed acidity           0\n",
            "volatile acidity        0\n",
            "citric acid             0\n",
            "residual sugar          0\n",
            "chlorides               0\n",
            "free sulfur dioxide     0\n",
            "total sulfur dioxide    0\n",
            "density                 0\n",
            "pH                      0\n",
            "sulphates               0\n",
            "alcohol                 0\n",
            "quality                 0\n",
            "dtype: int64\n"
          ]
        }
      ]
    },
    {
      "cell_type": "markdown",
      "source": [
        "Check for Duplicates"
      ],
      "metadata": {
        "id": "KTPR4b_Yau7D"
      }
    },
    {
      "cell_type": "code",
      "source": [
        "print(\"\\nNumber of duplicate rows:\", df.duplicated().sum())\n"
      ],
      "metadata": {
        "colab": {
          "base_uri": "https://localhost:8080/"
        },
        "id": "YM8QdfSyaxAy",
        "outputId": "a238a66e-7499-49e2-a586-24678e1610d1"
      },
      "execution_count": 6,
      "outputs": [
        {
          "output_type": "stream",
          "name": "stdout",
          "text": [
            "\n",
            "Number of duplicate rows: 240\n"
          ]
        }
      ]
    },
    {
      "cell_type": "markdown",
      "source": [
        "Remove Duplicate Rows"
      ],
      "metadata": {
        "id": "jqAikpPTa3eb"
      }
    },
    {
      "cell_type": "code",
      "source": [
        "df_cleaned = df.drop_duplicates()"
      ],
      "metadata": {
        "id": "NZgzkuoca5n8"
      },
      "execution_count": 7,
      "outputs": []
    },
    {
      "cell_type": "code",
      "source": [
        "print(\"\\nStatistical Summary:\\n\", df_cleaned.describe())"
      ],
      "metadata": {
        "colab": {
          "base_uri": "https://localhost:8080/"
        },
        "id": "ZO-7ShCRbIAX",
        "outputId": "d3f245c2-5a7a-4ad2-f5bc-e558751bb8f7"
      },
      "execution_count": 8,
      "outputs": [
        {
          "output_type": "stream",
          "name": "stdout",
          "text": [
            "\n",
            "Statistical Summary:\n",
            "        fixed acidity  volatile acidity  citric acid  residual sugar  \\\n",
            "count    1359.000000       1359.000000  1359.000000     1359.000000   \n",
            "mean        8.310596          0.529478     0.272333        2.523400   \n",
            "std         1.736990          0.183031     0.195537        1.352314   \n",
            "min         4.600000          0.120000     0.000000        0.900000   \n",
            "25%         7.100000          0.390000     0.090000        1.900000   \n",
            "50%         7.900000          0.520000     0.260000        2.200000   \n",
            "75%         9.200000          0.640000     0.430000        2.600000   \n",
            "max        15.900000          1.580000     1.000000       15.500000   \n",
            "\n",
            "         chlorides  free sulfur dioxide  total sulfur dioxide      density  \\\n",
            "count  1359.000000          1359.000000           1359.000000  1359.000000   \n",
            "mean      0.088124            15.893304             46.825975     0.996709   \n",
            "std       0.049377            10.447270             33.408946     0.001869   \n",
            "min       0.012000             1.000000              6.000000     0.990070   \n",
            "25%       0.070000             7.000000             22.000000     0.995600   \n",
            "50%       0.079000            14.000000             38.000000     0.996700   \n",
            "75%       0.091000            21.000000             63.000000     0.997820   \n",
            "max       0.611000            72.000000            289.000000     1.003690   \n",
            "\n",
            "                pH    sulphates      alcohol      quality  \n",
            "count  1359.000000  1359.000000  1359.000000  1359.000000  \n",
            "mean      3.309787     0.658705    10.432315     5.623252  \n",
            "std       0.155036     0.170667     1.082065     0.823578  \n",
            "min       2.740000     0.330000     8.400000     3.000000  \n",
            "25%       3.210000     0.550000     9.500000     5.000000  \n",
            "50%       3.310000     0.620000    10.200000     6.000000  \n",
            "75%       3.400000     0.730000    11.100000     6.000000  \n",
            "max       4.010000     2.000000    14.900000     8.000000  \n"
          ]
        }
      ]
    },
    {
      "cell_type": "markdown",
      "source": [
        "Most frequently occurring wine quality\n",
        "\n"
      ],
      "metadata": {
        "id": "1c97qv4DbNJ8"
      }
    },
    {
      "cell_type": "code",
      "source": [
        "most_freq_quality = df_cleaned['quality'].mode()[0]\n",
        "print(\"Most Frequent Wine Quality:\", most_freq_quality)\n"
      ],
      "metadata": {
        "colab": {
          "base_uri": "https://localhost:8080/"
        },
        "id": "-oLLSXpDbUQl",
        "outputId": "bc3fb675-e566-4ab7-d4f7-1a91dd7012f8"
      },
      "execution_count": 9,
      "outputs": [
        {
          "output_type": "stream",
          "name": "stdout",
          "text": [
            "Most Frequent Wine Quality: 5\n"
          ]
        }
      ]
    },
    {
      "cell_type": "markdown",
      "source": [
        "Highest and lowest wine quality"
      ],
      "metadata": {
        "id": "Q7TTFw3bbX_s"
      }
    },
    {
      "cell_type": "code",
      "source": [
        "max_quality = df_cleaned['quality'].max()\n",
        "min_quality = df_cleaned['quality'].min()\n",
        "print(\"Highest Quality:\", max_quality)\n",
        "print(\"Lowest Quality:\", min_quality)\n"
      ],
      "metadata": {
        "colab": {
          "base_uri": "https://localhost:8080/"
        },
        "id": "pVAP8IbObZx3",
        "outputId": "53802b34-f6f0-4e26-d07f-dd4ce85c453d"
      },
      "execution_count": 10,
      "outputs": [
        {
          "output_type": "stream",
          "name": "stdout",
          "text": [
            "Highest Quality: 8\n",
            "Lowest Quality: 3\n"
          ]
        }
      ]
    },
    {
      "cell_type": "markdown",
      "source": [
        "Correlation of features with quality"
      ],
      "metadata": {
        "id": "yhxxyAZCbeKD"
      }
    },
    {
      "cell_type": "code",
      "source": [
        "correlations = df_cleaned.corr(numeric_only=True)['quality'].sort_values(ascending=False)\n",
        "\n",
        "print(\"\\nCorrelations with Quality:\")\n",
        "print(\"Alcohol:\", correlations['alcohol'])\n",
        "print(\"Fixed Acidity:\", correlations['fixed acidity'])\n",
        "print(\"Free Sulfur Dioxide:\", correlations['free sulfur dioxide'])\n",
        "print(\"Volatile Acidity:\", correlations['volatile acidity'])\n"
      ],
      "metadata": {
        "colab": {
          "base_uri": "https://localhost:8080/"
        },
        "id": "_th1MNRCbgKR",
        "outputId": "ace71e49-ccef-4dc7-ef8f-8dec2770efa4"
      },
      "execution_count": 11,
      "outputs": [
        {
          "output_type": "stream",
          "name": "stdout",
          "text": [
            "\n",
            "Correlations with Quality:\n",
            "Alcohol: 0.48034289800155505\n",
            "Fixed Acidity: 0.11902366561349675\n",
            "Free Sulfur Dioxide: -0.050462766805025684\n",
            "Volatile Acidity: -0.39521368900984055\n"
          ]
        }
      ]
    },
    {
      "cell_type": "markdown",
      "source": [
        "Average residual sugar for best and worst quality wine\n"
      ],
      "metadata": {
        "id": "l48_e_8Pbjxq"
      }
    },
    {
      "cell_type": "code",
      "source": [
        "avg_sugar_best = df_cleaned[df_cleaned['quality'] == max_quality]['residual sugar'].mean()\n",
        "avg_sugar_worst = df_cleaned[df_cleaned['quality'] == min_quality]['residual sugar'].mean()\n",
        "\n",
        "print(\"\\nAverage Residual Sugar:\")\n",
        "print(f\"Best Quality (Quality = {max_quality}): {avg_sugar_best:.2f} g/L\")\n",
        "print(f\"Worst Quality (Quality = {min_quality}): {avg_sugar_worst:.2f} g/L\")\n"
      ],
      "metadata": {
        "colab": {
          "base_uri": "https://localhost:8080/"
        },
        "id": "dKys8OsQbmk6",
        "outputId": "d7644029-729b-4fc2-98b6-05dea9a034e1"
      },
      "execution_count": 12,
      "outputs": [
        {
          "output_type": "stream",
          "name": "stdout",
          "text": [
            "\n",
            "Average Residual Sugar:\n",
            "Best Quality (Quality = 8): 2.58 g/L\n",
            "Worst Quality (Quality = 3): 2.64 g/L\n"
          ]
        }
      ]
    },
    {
      "cell_type": "markdown",
      "source": [
        "Does volatile acidity affect wine quality"
      ],
      "metadata": {
        "id": "vDxbhwiQbvYd"
      }
    },
    {
      "cell_type": "code",
      "source": [
        "print(\"\\nVolatile Acidity vs Quality Correlation:\", correlations['volatile acidity'])\n"
      ],
      "metadata": {
        "colab": {
          "base_uri": "https://localhost:8080/"
        },
        "id": "o2Lqx_irbxgx",
        "outputId": "e4d56688-e17b-41da-b408-bc627d4fd555"
      },
      "execution_count": 13,
      "outputs": [
        {
          "output_type": "stream",
          "name": "stdout",
          "text": [
            "\n",
            "Volatile Acidity vs Quality Correlation: -0.39521368900984055\n"
          ]
        }
      ]
    },
    {
      "cell_type": "markdown",
      "source": [
        "Build Decision Tree and Random Forest models, compare accuracy\n"
      ],
      "metadata": {
        "id": "x0MUi22ib3pU"
      }
    },
    {
      "cell_type": "code",
      "source": [
        "from sklearn.model_selection import train_test_split\n",
        "from sklearn.tree import DecisionTreeClassifier\n",
        "from sklearn.ensemble import RandomForestClassifier\n",
        "from sklearn.metrics import accuracy_score\n",
        "\n",
        "# Features and target\n",
        "X = df_cleaned.drop('quality', axis=1)\n",
        "y = df_cleaned['quality']\n",
        "\n",
        "# Train-test split\n",
        "X_train, X_test, y_train, y_test = train_test_split(X, y, test_size=0.2, random_state=42)\n",
        "\n",
        "# Decision Tree\n",
        "dt = DecisionTreeClassifier(random_state=42)\n",
        "dt.fit(X_train, y_train)\n",
        "dt_preds = dt.predict(X_test)\n",
        "dt_accuracy = accuracy_score(y_test, dt_preds)\n",
        "\n",
        "# Random Forest\n",
        "rf = RandomForestClassifier(random_state=42)\n",
        "rf.fit(X_train, y_train)\n",
        "rf_preds = rf.predict(X_test)\n",
        "rf_accuracy = accuracy_score(y_test, rf_preds)\n",
        "\n",
        "print(\"\\nModel Accuracies:\")\n",
        "print(f\"Decision Tree: {dt_accuracy * 100:.2f}%\")\n",
        "print(f\"Random Forest: {rf_accuracy * 100:.2f}%\")\n"
      ],
      "metadata": {
        "colab": {
          "base_uri": "https://localhost:8080/"
        },
        "id": "u9_xo78Ub9Ab",
        "outputId": "832470d5-10cf-428f-ad94-3fc384b560c8"
      },
      "execution_count": 14,
      "outputs": [
        {
          "output_type": "stream",
          "name": "stdout",
          "text": [
            "\n",
            "Model Accuracies:\n",
            "Decision Tree: 50.74%\n",
            "Random Forest: 65.44%\n"
          ]
        }
      ]
    }
  ]
}