{
  "nbformat": 4,
  "nbformat_minor": 0,
  "metadata": {
    "colab": {
      "provenance": [],
      "authorship_tag": "ABX9TyNtPH9dzBhSoZ1muICslEHU",
      "include_colab_link": true
    },
    "kernelspec": {
      "name": "python3",
      "display_name": "Python 3"
    },
    "language_info": {
      "name": "python"
    }
  },
  "cells": [
    {
      "cell_type": "markdown",
      "metadata": {
        "id": "view-in-github",
        "colab_type": "text"
      },
      "source": [
        "<a href=\"https://colab.research.google.com/github/amritavarshini04/Finlatics_ml_projects/blob/main/Case_project_sales_prediction.ipynb\" target=\"_parent\"><img src=\"https://colab.research.google.com/assets/colab-badge.svg\" alt=\"Open In Colab\"/></a>"
      ]
    },
    {
      "cell_type": "markdown",
      "source": [
        "Importing libraries"
      ],
      "metadata": {
        "id": "Jd_Ua6oTo66c"
      }
    },
    {
      "cell_type": "code",
      "execution_count": 6,
      "metadata": {
        "id": "E63UC4JTotEl"
      },
      "outputs": [],
      "source": [
        "import numpy as np\n",
        "import pandas as pd\n",
        "import matplotlib.pyplot as plt"
      ]
    },
    {
      "cell_type": "code",
      "source": [
        "df=pd.read_excel('advertising_sales_data.xlsx')"
      ],
      "metadata": {
        "id": "CJUfS0Cwo555"
      },
      "execution_count": 4,
      "outputs": []
    },
    {
      "cell_type": "markdown",
      "source": [
        "Display the basics"
      ],
      "metadata": {
        "id": "sNRsf9RMNCw5"
      }
    },
    {
      "cell_type": "code",
      "source": [
        "print('First few rows: ')\n",
        "print(df.head())"
      ],
      "metadata": {
        "colab": {
          "base_uri": "https://localhost:8080/"
        },
        "id": "qwleoYwkNeMo",
        "outputId": "ce509c46-c70c-4a69-b8d4-aec05327dde7"
      },
      "execution_count": 7,
      "outputs": [
        {
          "output_type": "stream",
          "name": "stdout",
          "text": [
            "First few rows: \n",
            "  Campaign     TV  Radio  Newspaper  Sales\n",
            "0    camp1  230.1   37.8       69.2   22.1\n",
            "1    camp2   44.5   39.3       45.1   10.4\n",
            "2    camp3   17.2   45.9       69.3   12.0\n",
            "3    camp4  151.5   41.3       58.5   16.5\n",
            "4    camp5  180.8   10.8       58.4   17.9\n"
          ]
        }
      ]
    },
    {
      "cell_type": "markdown",
      "source": [
        "Check for the missing values"
      ],
      "metadata": {
        "id": "IJHoe-oJNmzX"
      }
    },
    {
      "cell_type": "code",
      "source": [
        "print(df.isnull().sum())\n",
        "df.fillna(df.mean(numeric_only=True),inplace=True)"
      ],
      "metadata": {
        "colab": {
          "base_uri": "https://localhost:8080/"
        },
        "id": "mFlI7QHjNpyk",
        "outputId": "348e0e75-1358-40fa-84d2-61a7ceba3ab5"
      },
      "execution_count": 8,
      "outputs": [
        {
          "output_type": "stream",
          "name": "stdout",
          "text": [
            "Campaign     0\n",
            "TV           0\n",
            "Radio        2\n",
            "Newspaper    0\n",
            "Sales        0\n",
            "dtype: int64\n"
          ]
        }
      ]
    },
    {
      "cell_type": "markdown",
      "source": [
        "Check if any missing values still there"
      ],
      "metadata": {
        "id": "FiuvabT0N8cv"
      }
    },
    {
      "cell_type": "code",
      "source": [
        "print(df.isnull().sum())"
      ],
      "metadata": {
        "colab": {
          "base_uri": "https://localhost:8080/"
        },
        "id": "157q6TCWOA7Q",
        "outputId": "1dc88dd4-cbcb-4da3-dc6d-1e8b1d652fa4"
      },
      "execution_count": 9,
      "outputs": [
        {
          "output_type": "stream",
          "name": "stdout",
          "text": [
            "Campaign     0\n",
            "TV           0\n",
            "Radio        0\n",
            "Newspaper    0\n",
            "Sales        0\n",
            "dtype: int64\n"
          ]
        }
      ]
    },
    {
      "cell_type": "markdown",
      "source": [
        "Summary"
      ],
      "metadata": {
        "id": "l6gOGpi6OPk3"
      }
    },
    {
      "cell_type": "code",
      "source": [
        "print(df.info())"
      ],
      "metadata": {
        "colab": {
          "base_uri": "https://localhost:8080/"
        },
        "id": "jDSfDWKEOMH-",
        "outputId": "7701cadc-2a3c-4bfc-a90f-747f2eea745b"
      },
      "execution_count": 10,
      "outputs": [
        {
          "output_type": "stream",
          "name": "stdout",
          "text": [
            "<class 'pandas.core.frame.DataFrame'>\n",
            "RangeIndex: 200 entries, 0 to 199\n",
            "Data columns (total 5 columns):\n",
            " #   Column     Non-Null Count  Dtype  \n",
            "---  ------     --------------  -----  \n",
            " 0   Campaign   200 non-null    object \n",
            " 1   TV         200 non-null    float64\n",
            " 2   Radio      200 non-null    float64\n",
            " 3   Newspaper  200 non-null    float64\n",
            " 4   Sales      200 non-null    float64\n",
            "dtypes: float64(4), object(1)\n",
            "memory usage: 7.9+ KB\n",
            "None\n"
          ]
        }
      ]
    },
    {
      "cell_type": "markdown",
      "source": [
        "Average TV advertising spend"
      ],
      "metadata": {
        "id": "xf2L8d3_PWB7"
      }
    },
    {
      "cell_type": "code",
      "source": [
        "avg_tv = df['TV'].mean()\n",
        "print(f\"\\n Average TV Advertising Spend: {avg_tv:.2f}\")"
      ],
      "metadata": {
        "colab": {
          "base_uri": "https://localhost:8080/"
        },
        "id": "87FUekgVPYwd",
        "outputId": "a74317c2-a0ed-425b-f35f-c76ddc6269aa"
      },
      "execution_count": 26,
      "outputs": [
        {
          "output_type": "stream",
          "name": "stdout",
          "text": [
            "\n",
            " Average TV Advertising Spend: 147.04\n"
          ]
        }
      ]
    },
    {
      "cell_type": "markdown",
      "source": [
        "Correlation between radio advertising expenditure and product sales"
      ],
      "metadata": {
        "id": "YFEhjZI0PlLE"
      }
    },
    {
      "cell_type": "code",
      "source": [
        "correlation_radio_sales = df['Radio'].corr(df['Sales'])\n",
        "correlation_newspaper_sales = df['Newspaper'].corr(df['Sales'])"
      ],
      "metadata": {
        "id": "QphqxbZoPltv"
      },
      "execution_count": 27,
      "outputs": []
    },
    {
      "cell_type": "code",
      "source": [
        "print(f\"\\n Correlation between Radio and Sales: {correlation_radio_sales:.2f}\")"
      ],
      "metadata": {
        "colab": {
          "base_uri": "https://localhost:8080/"
        },
        "id": "t6-4uuM5Py6v",
        "outputId": "1ea77a6d-2861-4d73-d9be-41cb17079768"
      },
      "execution_count": 28,
      "outputs": [
        {
          "output_type": "stream",
          "name": "stdout",
          "text": [
            "\n",
            " Correlation between Radio and Sales: 0.35\n"
          ]
        }
      ]
    },
    {
      "cell_type": "markdown",
      "source": [
        "Feature with highest impact on Sales"
      ],
      "metadata": {
        "id": "MCiYipAKP-ff"
      }
    },
    {
      "cell_type": "code",
      "source": [
        "from sklearn.linear_model import LinearRegression\n",
        "\n",
        "correlations = df.select_dtypes(include=['number']).corr()['Sales'].drop('Sales')\n",
        "highest_corr_feature = correlations.idxmax()\n",
        "print(f\"\\n Feature with highest impact on Sales: {highest_corr_feature} ({correlations.max():.2f})\")\n",
        "X = df[['TV', 'Radio', 'Newspaper']]\n",
        "y = df['Sales']"
      ],
      "metadata": {
        "colab": {
          "base_uri": "https://localhost:8080/"
        },
        "id": "F26MSKruQFPE",
        "outputId": "b40a6ed1-7462-448d-f5ee-08385cfa833a"
      },
      "execution_count": 29,
      "outputs": [
        {
          "output_type": "stream",
          "name": "stdout",
          "text": [
            "\n",
            " Feature with highest impact on Sales: TV (0.90)\n"
          ]
        }
      ]
    },
    {
      "cell_type": "markdown",
      "source": [
        "Train-test split"
      ],
      "metadata": {
        "id": "SBToms8IREVR"
      }
    },
    {
      "cell_type": "code",
      "source": [
        "from sklearn.model_selection import train_test_split # Import train_test_split\n"
      ],
      "metadata": {
        "id": "F6wRExj0Riw9"
      },
      "execution_count": 30,
      "outputs": []
    },
    {
      "cell_type": "code",
      "source": [
        "X_train, X_test, y_train, y_test = train_test_split(X, y, test_size=0.2, random_state=42)"
      ],
      "metadata": {
        "id": "y1HgVdmLRS1S"
      },
      "execution_count": 31,
      "outputs": []
    },
    {
      "cell_type": "markdown",
      "source": [
        "Linear regression with all features"
      ],
      "metadata": {
        "id": "dtLiBjilRt9y"
      }
    },
    {
      "cell_type": "code",
      "source": [
        "model_all = LinearRegression()\n",
        "model_all.fit(X_train, y_train)\n",
        "y_pred = model_all.predict(X_test)"
      ],
      "metadata": {
        "id": "YMqN1Zx8RwbQ"
      },
      "execution_count": 32,
      "outputs": []
    },
    {
      "cell_type": "markdown",
      "source": [
        "plot"
      ],
      "metadata": {
        "id": "vlfHICJoR0Z2"
      }
    },
    {
      "cell_type": "code",
      "source": [
        "plt.figure(figsize=(8,6))\n",
        "plt.scatter(y_test, y_pred, alpha=0.7, color='blue')\n",
        "plt.plot([y.min(), y.max()], [y.min(), y.max()], 'r--')\n",
        "plt.xlabel('Actual Sales')\n",
        "plt.ylabel('Predicted Sales')\n",
        "plt.title(' Linear Regression: Actual vs Predicted Sales')\n",
        "plt.grid(True)\n",
        "plt.tight_layout()\n",
        "plt.show()"
      ],
      "metadata": {
        "colab": {
          "base_uri": "https://localhost:8080/",
          "height": 498
        },
        "id": "Ib4EA3xZR18w",
        "outputId": "4927c1c6-15fa-4caa-bf98-54fad6961fde"
      },
      "execution_count": 33,
      "outputs": [
        {
          "output_type": "display_data",
          "data": {
            "text/plain": [
              "<Figure size 800x600 with 1 Axes>"
            ],
            "image/png": "[encoded data removed]"
          },
          "metadata": {}
        }
      ]
    },
    {
      "cell_type": "markdown",
      "source": [
        "Predicting for new input [TV=200, Radio=40, Newspaper=50]"
      ],
      "metadata": {
        "id": "HzQtfSOPSCCg"
      }
    },
    {
      "cell_type": "code",
      "source": [
        "new_data = pd.DataFrame({'TV': [200], 'Radio': [40], 'Newspaper': [50]})\n",
        "new_prediction = model_all.predict(new_data)\n",
        "print(f\"\\n Predicted Sales for [TV=200, Radio=40, Newspaper=50]: {new_prediction[0]:.2f}\")"
      ],
      "metadata": {
        "colab": {
          "base_uri": "https://localhost:8080/"
        },
        "id": "kH4qemCtSFRm",
        "outputId": "9c67f15b-dcc5-4e6b-8761-e5bb32e5c7d1"
      },
      "execution_count": 34,
      "outputs": [
        {
          "output_type": "stream",
          "name": "stdout",
          "text": [
            "\n",
            " Predicted Sales for [TV=200, Radio=40, Newspaper=50]: 19.87\n"
          ]
        }
      ]
    },
    {
      "cell_type": "markdown",
      "source": [
        "Model with Normalization"
      ],
      "metadata": {
        "id": "4qk1AELcSLr1"
      }
    },
    {
      "cell_type": "code",
      "source": [
        "from sklearn.preprocessing import StandardScaler\n",
        "from sklearn.metrics import r2_score"
      ],
      "metadata": {
        "id": "9Bmc7KmtSNvu"
      },
      "execution_count": 22,
      "outputs": []
    },
    {
      "cell_type": "code",
      "source": [
        "scaler = StandardScaler()\n",
        "X_scaled = scaler.fit_transform(X)\n",
        "\n",
        "X_train_scaled, X_test_scaled, y_train_scaled, y_test_scaled = train_test_split(\n",
        "    X_scaled, y, test_size=0.2, random_state=42\n",
        ")\n",
        "\n",
        "model_scaled = LinearRegression()\n",
        "model_scaled.fit(X_train_scaled, y_train_scaled)\n",
        "y_pred_scaled = model_scaled.predict(X_test_scaled)\n",
        "r2_scaled = r2_score(y_test_scaled, y_pred_scaled)\n",
        "print(f\"\\n R² score after normalization: {r2_scaled:.4f}\")"
      ],
      "metadata": {
        "colab": {
          "base_uri": "https://localhost:8080/"
        },
        "id": "7jystjLwSfBh",
        "outputId": "44ca8fb6-81b9-485a-fe46-0c9a85ea4b37"
      },
      "execution_count": 24,
      "outputs": [
        {
          "output_type": "stream",
          "name": "stdout",
          "text": [
            "\n",
            " R² score after normalization: 0.9059\n"
          ]
        }
      ]
    },
    {
      "cell_type": "markdown",
      "source": [
        "Model using only Radio and Newspaper"
      ],
      "metadata": {
        "id": "Y0WMqt7XS1L9"
      }
    },
    {
      "cell_type": "code",
      "source": [
        "X_subset = df[['Radio', 'Newspaper']]\n",
        "X_train_sub, X_test_sub, y_train_sub, y_test_sub = train_test_split(X_subset, y, test_size=0.2, random_state=42)\n",
        "\n",
        "model_subset = LinearRegression()\n",
        "model_subset.fit(X_train_sub, y_train_sub)\n",
        "y_pred_subset = model_subset.predict(X_test_sub)\n",
        "r2_subset = r2_score(y_test_sub, y_pred_subset)\n",
        "print(f\"\\n R² score using only Radio and Newspaper: {r2_subset:.4f}\")"
      ],
      "metadata": {
        "colab": {
          "base_uri": "https://localhost:8080/"
        },
        "id": "2QhsZAHwS5K2",
        "outputId": "df09ae41-ae8c-408f-cb85-e1898f8aff8a"
      },
      "execution_count": 25,
      "outputs": [
        {
          "output_type": "stream",
          "name": "stdout",
          "text": [
            "\n",
            " R² score using only Radio and Newspaper: 0.1100\n"
          ]
        }
      ]
    }
  ]
}